{
 "cells": [
  {
   "cell_type": "code",
   "execution_count": 2,
   "metadata": {},
   "outputs": [
    {
     "name": "stdout",
     "output_type": "stream",
     "text": [
      "personel no: 1, adı: Ahmet, soyadı: Yılmaz, departman: İdari, maaş: 7000\n",
      "personel no: 2, adı: Ayşe, soyadı: Kaya, departman: Muhasebe, maaş: 7500\n",
      "personel no: 3, adı: Mehmet, soyadı: Demir, departman: Dahiliye, maaş: 9000, uzmanlık: Kardiyoloji, deneyim yılı: 10, hastane: Hastane A, arttirilmis maas=19000\n",
      "personel no: 4, adı: Fatma, soyadı: Şahin, departman: Cerrahi, maaş: 8500, uzmanlık: Ortopedi, deneyim yılı: 8, hastane: Hastane B, arttirilmis maas=16500\n",
      "personel no: 11, adı: Doktor, soyadı: Bey, departman: Dahiliye, maaş: 9000, uzmanlık: ruh ve sinir, deneyim yılı: 6, hastane: Hastane c, arttirilmis maas=15000\n",
      "personel no: 5, adı: Ali, soyadı: Çelik, departman: Acil, maaş: 7500, calisma saati=16,sertifika=İlk Yardım,hastane=Hastane A, arttirilmis maas=7820\n",
      "personel no: 6, adı: Zeynep, soyadı: Toprak, departman: Pediatri, maaş: 7200, calisma saati=12,sertifika=Yenidoğan Bakım,hastane=Hastane B, arttirilmis maas=7440\n",
      "personel no: 7, adı: Zeynep, soyadı: Hanım, departman: Pediatri, maaş: 7200, calisma saati=12,sertifika=Yenidoğan Bakım,hastane=Hastane B, arttirilmis maas=7440\n",
      "hasta no:666 ad Ali, soyad Yılmaz, dogum tarihi 1990-05-10 00:00:00, hastalik grip, tedavi özel, tedaavi süresi=5\n",
      "hasta no:333 ad Ayşe, soyad Kaya, dogum tarihi 1992-12-15 00:00:00, hastalik zehirlenme, tedavi özel, tedaavi süresi=9\n",
      "hasta no:66 ad Fatma, soyad Demir, dogum tarihi 2000-05-20 00:00:00, hastalik depresyon, tedavi normal, tedaavi süresi=34\n"
     ]
    }
   ],
   "source": [
    "import doktor               #gerekli kütüphaneler import edildi\n",
    "import pandas as pd\n",
    "import hasta\n",
    "import hemsire\n",
    "import personel\n",
    "from datetime import datetime #hasta dogumttarihleri kontrolü icin\n",
    "\n",
    "hasta1DogumTarihi=\"10.05.1990\"\n",
    "hasta2DogumTarihi=\"15.12.1992\"\n",
    "hasta3DogumTarihi=\"20.05.2000\"\n",
    "hastaDogumTarihleri=[hasta1DogumTarihi,hasta2DogumTarihi,hasta3DogumTarihi]\n",
    "#dataframe yazilacak hasta dogum tarihleri 1990'a göre kontrol icin\n",
    "dataFrameYazilacak=[]\n",
    "for dogumTarihi in hastaDogumTarihleri:\n",
    "    tarih=datetime.strptime(dogumTarihi,\"%d.%m.%Y\")\n",
    "    dataFrameYazilacak.append(tarih)\n",
    "#personel sınıfından  2 örnek\n",
    "personel1 = personel.Personel(1, \"Ahmet\", \"Yılmaz\", \"İdari\", 7000)\n",
    "personel2 = personel.Personel(2, \"Ayşe\", \"Kaya\", \"Muhasebe\", 7500)\n",
    "#doktor sınıfından 3 örnek\n",
    "doktor1 = doktor.Doktor(3, \"Mehmet\", \"Demir\", \"Dahiliye\", 9000, \"Kardiyoloji\", 10, \"Hastane A\")\n",
    "doktor2 = doktor.Doktor(4, \"Fatma\", \"Şahin\", \"Cerrahi\", 8500, \"Ortopedi\", 8, \"Hastane B\")\n",
    "doktor3= doktor.Doktor(11,\"Doktor\",\"Bey\",\"Dahiliye\",9000,\"ruh ve sinir\",6,\"Hastane c\")\n",
    "#hemsire sınıfından 3 örnek\n",
    "hemsire1 = hemsire.Hemsire(5, \"Ali\", \"Çelik\", \"Acil\", 7500, 16, \"İlk Yardım\", \"Hastane A\")\n",
    "hemsire2 = hemsire.Hemsire(6, \"Zeynep\", \"Toprak\", \"Pediatri\", 7200, 12, \"Yenidoğan Bakım\", \"Hastane B\")\n",
    "hemsire3 = hemsire.Hemsire(7, \"Zeynep\", \"Hanım\", \"Pediatri\", 7200, 12, \"Yenidoğan Bakım\", \"Hastane B\")\n",
    "#hasta sınıından 3 örnek \n",
    "hasta1 = hasta.Hasta(666, \"Ali\", \"Yılmaz\",dataFrameYazilacak[0], \"grip\", \"özel\")\n",
    "hasta2 = hasta.Hasta(333, \"Ayşe\", \"Kaya\", dataFrameYazilacak[1] , \"zehirlenme\", \"özel\")\n",
    "hasta3 = hasta.Hasta(66, \"Fatma\", \"Demir\", dataFrameYazilacak[2] , \"depresyon\", \"normal\")\n",
    "#bilgileri yazdırma\n",
    "tumKisiler=[personel1,personel2,doktor1,doktor2,doktor3,hemsire1,hemsire2,hemsire3,hasta1,hasta2,hasta3]\n",
    "for kisi in tumKisiler:\n",
    "    print(kisi)"
   ]
  },
  {
   "cell_type": "code",
   "execution_count": null,
   "metadata": {},
   "outputs": [],
   "source": []
  }
 ],
 "metadata": {
  "kernelspec": {
   "display_name": "base",
   "language": "python",
   "name": "python3"
  },
  "language_info": {
   "codemirror_mode": {
    "name": "ipython",
    "version": 3
   },
   "file_extension": ".py",
   "mimetype": "text/x-python",
   "name": "python",
   "nbconvert_exporter": "python",
   "pygments_lexer": "ipython3",
   "version": "3.11.5"
  }
 },
 "nbformat": 4,
 "nbformat_minor": 2
}
